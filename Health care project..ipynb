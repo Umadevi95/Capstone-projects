{
 "cells": [
  {
   "cell_type": "code",
   "execution_count": 3,
   "id": "e9f79d7d",
   "metadata": {},
   "outputs": [],
   "source": [
    "#import libraries\n",
    "import pandas as pd\n",
    "from sklearn.model_selection import train_test_split\n",
    "from sklearn.ensemble import RandomForestRegressor\n",
    "\n"
   ]
  },
  {
   "cell_type": "code",
   "execution_count": 4,
   "id": "9ae76051",
   "metadata": {},
   "outputs": [],
   "source": [
    "\n",
    "# Step 1: Load your dataset\n",
    "data = pd.read_csv(\"pregnancy_nutrition_dataset.csv\")  # Save your table as nutrient_data.csv\n",
    "\n",
    "# Features and targets\n",
    "X = data[['trimester', 'age', 'weight', 'height']]\n",
    "y = data[['calorie_need', 'protein_need', 'iron_need', 'calcium_need']]\n",
    "\n",
    "\n",
    "\n"
   ]
  },
  {
   "cell_type": "code",
   "execution_count": 5,
   "id": "9bb9f507",
   "metadata": {},
   "outputs": [],
   "source": [
    "\n",
    "# Step 2: Train separate models for each nutrient\n",
    "models = {}\n",
    "for nutrient in y.columns:\n",
    "    X_train, X_test, y_train, y_test = train_test_split(X, y[nutrient], test_size=0.2, random_state=42)\n",
    "    model = RandomForestRegressor(random_state=42)\n",
    "    model.fit(X_train, y_train)\n",
    "    models[nutrient] = model\n"
   ]
  },
  {
   "cell_type": "code",
   "execution_count": 6,
   "id": "202b67b3",
   "metadata": {},
   "outputs": [
    {
     "name": "stdout",
     "output_type": "stream",
     "text": [
      "Age (years): 33\n",
      "Trimester (1,2,3): 2\n",
      "Weight (kg): 55\n",
      "Height (cm): 155\n",
      "Are you vegetarian? (yes/no): 0\n"
     ]
    }
   ],
   "source": [
    "\n",
    "# Step 3: Take User Input\n",
    "age = int(input(\"Age (years): \"))\n",
    "trimester = int(input(\"Trimester (1,2,3): \"))\n",
    "weight = float(input(\"Weight (kg): \"))\n",
    "height = float(input(\"Height (cm): \"))\n",
    "vegetarian_input = input(\"Are you vegetarian? (yes/no): \").strip().lower()\n",
    "vegetarian = 1 if vegetarian_input == 'yes' else 0\n",
    "\n",
    "# Prepare new input\n",
    "new_input = pd.DataFrame([[trimester, age, weight, height]],\n",
    "                         columns=['trimester','age','weight','height'])\n"
   ]
  },
  {
   "cell_type": "code",
   "execution_count": 7,
   "id": "d2085ed4",
   "metadata": {},
   "outputs": [
    {
     "name": "stdout",
     "output_type": "stream",
     "text": [
      "\n",
      "Recommended Nutrients:\n",
      "calorie_need: 2349\n",
      "protein_need: 84\n",
      "iron_need: 25\n",
      "calcium_need: 950\n",
      "\n",
      "Suggested Meals for the Day:\n",
      "- Breakfast: Boiled eggs, oats porridge with milk and fruit\n",
      "- Snack: Handful of nuts and fresh fruit\n",
      "- Lunch: Brown rice, chicken curry, spinach sabji, curd\n",
      "- Snack: Sprouts chaat or vegetable sandwich\n",
      "- Dinner: Chapati, grilled fish/chicken, mixed vegetable salad\n"
     ]
    }
   ],
   "source": [
    "\n",
    "# Step 4: Predict Nutrients\n",
    "recommended_nutrients = {}\n",
    "for nutrient, model in models.items():\n",
    "    recommended_nutrients[nutrient] = model.predict(new_input)[0]\n",
    "\n",
    "print(\"\\nRecommended Nutrients:\")\n",
    "for k,v in recommended_nutrients.items():\n",
    "    print(f\"{k}: {v:.0f}\")\n",
    "\n",
    "# -------------------------------\n",
    "# Step 5: Meal Suggestions\n",
    "def meal_suggestion(nutrients, vegetarian=True):\n",
    "    meals = []\n",
    "    \n",
    "    # Breakfast\n",
    "    if vegetarian:\n",
    "        meals.append(\"Breakfast: Oats porridge with milk and fruit, or Whole grain dosa with chutney\")\n",
    "    else:\n",
    "        meals.append(\"Breakfast: Boiled eggs, oats porridge with milk and fruit\")\n",
    "    \n",
    "    # Mid-morning snack\n",
    "    meals.append(\"Snack: Handful of nuts and fresh fruit\")\n",
    "    \n",
    "    # Lunch\n",
    "    if vegetarian:\n",
    "        meals.append(\"Lunch: Brown rice, dal, spinach sabji, curd\")\n",
    "    else:\n",
    "        meals.append(\"Lunch: Brown rice, chicken curry, spinach sabji, curd\")\n",
    "    \n",
    "    # Evening snack\n",
    "    meals.append(\"Snack: Sprouts chaat or vegetable sandwich\")\n",
    "    \n",
    "    # Dinner\n",
    "    if vegetarian:\n",
    "        meals.append(\"Dinner: Chapati, paneer curry, mixed vegetable salad\")\n",
    "    else:\n",
    "        meals.append(\"Dinner: Chapati, grilled fish/chicken, mixed vegetable salad\")\n",
    "    \n",
    "    return meals\n",
    "\n",
    "print(\"\\nSuggested Meals for the Day:\")\n",
    "for meal in meal_suggestion(recommended_nutrients, vegetarian=bool(vegetarian)):\n",
    "    print(\"-\", meal)\n",
    "\n"
   ]
  },
  {
   "cell_type": "code",
   "execution_count": null,
   "id": "5f376c10",
   "metadata": {},
   "outputs": [],
   "source": []
  },
  {
   "cell_type": "code",
   "execution_count": null,
   "id": "0d4b3b7b",
   "metadata": {},
   "outputs": [],
   "source": []
  }
 ],
 "metadata": {
  "kernelspec": {
   "display_name": "Python 3 (ipykernel)",
   "language": "python",
   "name": "python3"
  },
  "language_info": {
   "codemirror_mode": {
    "name": "ipython",
    "version": 3
   },
   "file_extension": ".py",
   "mimetype": "text/x-python",
   "name": "python",
   "nbconvert_exporter": "python",
   "pygments_lexer": "ipython3",
   "version": "3.7.6"
  }
 },
 "nbformat": 4,
 "nbformat_minor": 5
}
